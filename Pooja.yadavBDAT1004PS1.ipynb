{
 "cells": [
  {
   "cell_type": "markdown",
   "id": "264327f7-e957-40d2-a939-bc53e7490ac6",
   "metadata": {
    "tags": []
   },
   "source": [
    "#### 1 What data type is each of the following (evaluate where necessary)? 5  5.0 5 > 1 '5' 5 * 2 '5' * 2 '5' + '2' 5 / 2 5 % 2 {5, 2, 1} 5 == 3 Pi (the number)"
   ]
  },
  {
   "cell_type": "markdown",
   "id": "c22788f0-cd8d-4682-b510-6a0e491af53a",
   "metadata": {},
   "source": [
    "X=5\n",
    "print(type(X))\n",
    "Y=5.0\n",
    "print(type(Y))\n",
    "Z=5>1\n",
    "print(type(Z))\n",
    "A='5'\n",
    "print(type(A))\n",
    "B=5*2\n",
    "print(type(B))\n",
    "C='5'*2\n",
    "print(type(C))\n",
    "D='5'+'2'\n",
    "print(type(D))\n",
    "E=5/2\n",
    "print(type(E))\n",
    "F=5%2\n",
    "print(type(F))\n",
    "G={5,2,1}\n",
    "print(type(G))\n",
    "H=5 == 3\n",
    "print(type(H))\n",
    "\n",
    "Output: \n",
    "<class 'int'>\n",
    "<class 'float'>\n",
    "<class 'bool'>\n",
    "<class 'str'>\n",
    "<class 'int'>\n",
    "<class 'str'>\n",
    "<class 'str'>\n",
    "<class 'float'>\n",
    "<class 'int'>\n",
    "<class 'set'>\n",
    "<class 'bool'>"
   ]
  },
  {
   "cell_type": "markdown",
   "id": "406e5ee6-01a4-449b-a371-5adbb95d881d",
   "metadata": {
    "tags": []
   },
   "source": [
    "### 2 Write (and evaluate) python expressions that answer these questions: a. How many letters are there in 'Supercalifragilisticexpialidocious'? b. Does 'Supercalifragilisticexpialidocious' contain 'ice' as a substring? c. Which of the following words is the longest: Supercalifragilisticexpialidocious, Honorificabilitudinitatibus, or Bababadalgharaghtakamminarronnkonn?  d. Which composer comes first in the dictionary: 'Berlioz', 'Borodin', 'Brian',  'Bartok', 'Bellini', 'Buxtehude', 'Bernstein'. Which one comes last?"
   ]
  },
  {
   "cell_type": "code",
   "execution_count": null,
   "id": "0d6d1a6f-aa6e-4739-bbf5-925462d27b7e",
   "metadata": {},
   "outputs": [],
   "source": [
    "code a: \n",
    "    x = len(\"Supercalifragilisticexpialidocious\")\n",
    "\n",
    "print(x)\n",
    "  Output: 34\n",
    "    \n",
    "Code b:\n",
    "    string = \"Supercalifragilisticexpialidocious\"\n",
    "\n",
    "if \"ice\" in string:\n",
    "\tprint(\"Yes! it is present in the string\")\n",
    "else:\n",
    "\tprint(\"No! it is not present\")\n",
    "    \n",
    "Output: \n",
    "    Yes! it is present in the string\n",
    "    \n",
    "    \n",
    "Code c:\n",
    "    words = [\n",
    "    \"Supercalifragilisticexpialidocious\",\n",
    "    \"Honorificabilitudinitatibus\",\n",
    "    \"Bababadalgharaghtakamminarronnkonn\"\n",
    "]\n",
    "\n",
    "longest_word = max(words, key=len)\n",
    "\n",
    "print(\"The longest word is:\", longest_word)\n",
    "\n",
    "Output: \n",
    "    The longest word is: Supercalifragilisticexpialidocious\n",
    "    \n",
    "Code d: \n",
    "    words = [\"Berlioz\", \"Borodin\", \"Brian\", \"Bartok\", \"Bellini\", \"Buxtehude\", \"Bernstein\"]\n",
    "sorted_words = sorted(words)\n",
    "for word in sorted_words:\n",
    "    print(word)\n",
    "firstword = min(words)\n",
    "lastword = max(words)\n",
    "print(\"first word in the dictnory is\", firstword)\n",
    "print(\"last word in the dictnory is\", lastword)\n",
    "\n",
    "Output: \n",
    "Bartok\n",
    "Bellini\n",
    "Berlioz\n",
    "Bernstein\n",
    "Borodin\n",
    "Brian\n",
    "Buxtehude\n",
    "first word in the dictnory is Bartok\n",
    "last word in the dictnory is Buxtehude\n"
   ]
  },
  {
   "cell_type": "markdown",
   "id": "1224d2e6-0431-49ff-b547-3e7921154af7",
   "metadata": {},
   "source": [
    "#### 3 Implement function triangleArea(a,b,c) that takes as input the lengths of the 3 sides of a triangle and returns the area of the triangle. By Heron's formula, the area  of a triangle with side lengths a, b, and c is s(s - a)(s -b)(s -c) , where  s = (a+b+c)/2. >>> triangleArea(2,2,2) 1.7320508075688772"
   ]
  },
  {
   "cell_type": "code",
   "execution_count": null,
   "id": "d8af93a3-b6f6-4ce9-a656-69781e74ecb9",
   "metadata": {},
   "outputs": [],
   "source": [
    "import math\n",
    "def triangleArea(a, b, c):\n",
    "    s = (a + b + c) / 2\n",
    "    area = math.sqrt(s * (s - a) * (s - b) * (s - c))\n",
    "    return area\n",
    "\n",
    "area = triangleArea(2, 2, 2)\n",
    "print(area)\n",
    "\n",
    "Output: 1.7320508075688772"
   ]
  },
  {
   "cell_type": "markdown",
   "id": "69519043-cd1b-49fc-a405-e22d8031650d",
   "metadata": {},
   "source": [
    "#### 4 Write a program in python to separate odd and even integers in separate arrays. Go to the editor Test Data :Input the number of elements to be stored in the array :5 Input 5 elements in the array : element - 0 : 25 element - 1 : 47 element - 2 : 42 element - 3 : 56 element - 4 : 32 Expected Output:The Even elements are: 42 56 32 The Odd elements are: 25 47"
   ]
  },
  {
   "cell_type": "code",
   "execution_count": null,
   "id": "7b145389-7e5b-4c0d-9d20-c005a02d15a8",
   "metadata": {},
   "outputs": [],
   "source": [
    "even_numbers = []\n",
    "odd_numbers = []\n",
    "\n",
    "# Input 5 elements into the array/list\n",
    "print(\"Input 5 elements in the array:\")\n",
    "for i in range(5):\n",
    "    num = int(input(f\"Enter element {i + 1}: \"))\n",
    "    if num % 2 == 0:\n",
    "        even_numbers.append(num)\n",
    "    else:\n",
    "        odd_numbers.append(num)\n",
    "print(\"Even numbers:\", even_numbers)\n",
    "print(\"Odd numbers:\", odd_numbers)\n",
    "\n",
    "Output: \n",
    "Input 5 elements in the array:\n",
    "Enter element 1: 25\n",
    "Enter element 2: 47\n",
    "Enter element 3: 42\n",
    "Enter element 4: 56\n",
    "Enter element 5: 32\n",
    "Even numbers: [42, 56, 32]\n",
    "Odd numbers: [25, 47]"
   ]
  },
  {
   "cell_type": "markdown",
   "id": "cabbb032-fe07-4560-b6b1-8afbc9da3ff2",
   "metadata": {},
   "source": [
    "#### 5a Write a function inside(x,y,x1,y1,x2,y2) that returns True or False depending on whether the point (x,y) lies in the rectangle with lower left corner (x1,y1) and upper right corner (x2,y2). >>> inside(1,1,0,0,2,3) True >>> inside(-1,-1,0,0,2,3) False 5b. Use function inside() from part a. to write an expression that tests whether the point (1,1) lies in both of the following rectangles: one with lower left corner (0.3, 0.5) and upper right corner (1.1, 0.7) and the other with lower left corner (0.5, 0.2) and upper right corner (1.1, 2)."
   ]
  },
  {
   "cell_type": "code",
   "execution_count": null,
   "id": "8aa5dd87-2013-4a16-94e3-ef35058ebaac",
   "metadata": {},
   "outputs": [],
   "source": [
    "def inside(x, y, x1, y1, x2, y2):\n",
    "    # Checking if point (x, y) lies the rectangle with corners (x1, y1) and (x2, y2)\n",
    "    is_inside = (x1 <= x <= x2 and y1 <= y <= y2)\n",
    "    return is_inside\n",
    "\n",
    "inside (1,1,0,0,2,3)\n",
    "Output: True\n",
    "\n",
    "inside (-1,-1,0,0,2,3)\n",
    "Output: False "
   ]
  },
  {
   "cell_type": "markdown",
   "id": "56ff2640-237a-4175-a478-6c0032dfed92",
   "metadata": {},
   "source": [
    "#### 6 You can turn a word into pig-Latin using the following two rules (simplified): • If the word starts with a consonant, move that letter to the end and append 'ay'. For example, 'happy' becomes 'appyhay' and 'pencil' becomes 'encilpay'. • If the word starts with a vowel, simply append 'way' to the end of the word. For example, 'enter' becomes 'enterway' and 'other' becomes 'otherway' . For our purposes, there are 5 vowels: a, e, i, o, u (so we count y as a consonant). Write a function pig() that takes a word (i.e., a string) as input and returns its pig\u0002Latin form. Your function should still work if the input word contains upper case characters. Your output should always be lower case however. >>> pig('happy') 'appyhay' >>> pig('Enter') 'enterway' \n"
   ]
  },
  {
   "cell_type": "code",
   "execution_count": null,
   "id": "3d1cd626-26f5-4228-9ba4-81de4a83c83a",
   "metadata": {},
   "outputs": [],
   "source": [
    "def pig(word):\n",
    "    vowels = ['a', 'e', 'i', 'o', 'u']\n",
    "    if word[0].lower() in vowels:\n",
    "        return word + 'way'\n",
    "    else:\n",
    "        return word[1:] + word[0] + 'ay'\n",
    "while True:\n",
    "    text = input(\"Enter a word: \").strip().lower()\n",
    "    if text == 'exit':\n",
    "        break\n",
    "    pig_latin = pig(text)\n",
    "    print(\"Pig Latin:\", pig_latin)\n",
    "    \n",
    "Output: \n",
    "Enter a word: happy\n",
    "Pig Latin: appyhay\n",
    "Enter a word: Enter\n",
    "Pig Latin: enterway"
   ]
  },
  {
   "cell_type": "markdown",
   "id": "a07e054c-fbf7-42a8-8f17-cb8907013ddd",
   "metadata": {},
   "source": [
    "#### 7 File bloodtype1.txt records blood-types of patients (A, B, AB, O or OO) at a clinic. Write a function bldcount() that reads the file with name name and reports (i.e., prints) how many patients there are in each bloodtype. >>> bldcount('bloodtype.txt') There are 10 patients of blood type A. There is one patient of blood type B. There are 10 patients of blood type AB. There are 12 patients of blood type O. There are no patients of blood type OO."
   ]
  },
  {
   "cell_type": "code",
   "execution_count": 4,
   "id": "96798399-5667-4868-affc-9be21cf5b9d0",
   "metadata": {
    "tags": []
   },
   "outputs": [],
   "source": []
  },
  {
   "cell_type": "markdown",
   "id": "d148c952-9afc-4878-847e-aa0149340266",
   "metadata": {},
   "source": [
    "#### 8 Write a function curconv() that takes as input: 1. a currency represented using a string (e.g., 'JPY' for the Japanese Yen or 'EUR' for the Euro) 2. an amount and then converts and returns the amount in US dollars. >>> curconv('EUR', 100) 122.96544 >>> curconv('JPY', 100) 1.241401 The currency rates you will need are stored in file currencies.txt: AUD 1.0345157 Australian Dollar CHF 1.0237414 Swiss Franc CNY 0.1550176 Chinese Yuan DKK 0.1651442 Danish Krone EUR 1.2296544 Euro GBP 1.5550989 British Pound HKD 0.1270207 Hong Kong Dollar INR 0.0177643 Indian Rupee JPY 0.01241401 Japanese Yen MXN 0.0751848 Mexican Peso MYR 0.3145411 Malaysian Ringgit NOK 0.1677063 Norwegian Krone NZD 0.8003591 New Zealand Dollar PHP 0.0233234 Philippine Peso SEK 0.148269 Swedish Krona SGD 0.788871 Singapore Dollar THB 0.0313789 Thai Baht\n"
   ]
  },
  {
   "cell_type": "code",
   "execution_count": 5,
   "id": "68c39fb6-8f1e-4f27-a85e-4ddacfcf2bfe",
   "metadata": {
    "tags": []
   },
   "outputs": [],
   "source": [
    "import argparse\n",
    "import os\n",
    "import sys\n",
    "\n",
    "from forex_python.converter import CurrencyRates\n",
    "from yaml import YAMLError, load\n",
    "\n",
    "DEFAULT_CONFIGURATION_FILE_PATH = [\n",
    "    os.getenv('HOME') + \"/.curconv.yaml\",\n",
    "    \"./curconv.yaml\"\n",
    "]\n",
    "\n",
    "OUTPUT_FORMAT = \"{amount} {currency}\"\n",
    "\n",
    "\n",
    "def load_configuration_from_file(file):\n",
    "    \"\"\"\n",
    "    Attempt to load configuration from a given file or from known file paths.\n",
    "    \"\"\"\n",
    "    try:\n",
    "        if file:\n",
    "            return load(file)\n",
    "        else:\n",
    "            for path in DEFAULT_CONFIGURATION_FILE_PATH:\n",
    "                try:\n",
    "                    return load(open(path, 'r'))\n",
    "                except FileNotFoundError:\n",
    "                    pass\n",
    "        return None\n",
    "    except YAMLError:\n",
    "        sys.exit('Malformed configuration file!')\n",
    "\n",
    "\n",
    "def main():\n",
    "    parser = argparse.ArgumentParser(\n",
    "        description='Simple currency conversion tool :-)'\n",
    "    )\n",
    "    parser.add_argument('amount', type=float,\n",
    "                        help='amount to convert to other currency')\n",
    "    parser.add_argument('from_currency', type=str, nargs='?', default=None,\n",
    "                        help='currency from which you want to convert')\n",
    "    parser.add_argument('to_currencies', type=str, nargs='*',\n",
    "                        help='currency to which you want to convert')\n",
    "    parser.add_argument('--conf', dest='configuration_file',\n",
    "                        type=argparse.FileType('r'),\n",
    "                        default=None, help='configuration file')\n",
    "\n",
    "    arguments = parser.parse_args()\n",
    "    conf = load_configuration_from_file(arguments.configuration_file)\n",
    "\n",
    "    amount = arguments.amount\n",
    "\n",
    "    if conf:\n",
    "        arguments.from_currency = (arguments.from_currency\n",
    "                                   or conf['from_currency'])\n",
    "        arguments.to_currencies = (arguments.to_currencies\n",
    "                                   or conf['to_currencies'])\n",
    "\n",
    "    from_currency = arguments.from_currency.upper()\n",
    "    to_currencies = [currency.upper()for currency in arguments.to_currencies]\n",
    "\n",
    "    converter = CurrencyRates()\n",
    "\n",
    "    results = [(converter.convert(from_currency, dest, amount), dest)\n",
    "               for dest in to_currencies if dest != from_currency]\n",
    "\n",
    "    print(OUTPUT_FORMAT.format(amount=amount, currency=from_currency))\n",
    "    for amount, currency in results:\n",
    "        print(OUTPUT_FORMAT.format(amount=amount, currency=currency))\n",
    "\n",
    "\n",
    "if __name__ == '__main__':\n",
    "    main()\n"
   ]
  },
  {
   "cell_type": "markdown",
   "id": "f53315bd-571c-49a8-b23e-8452b25e107d",
   "metadata": {
    "tags": []
   },
   "source": [
    "#### 9 Each of the following will cause an exception (an error). Identify what type of exception each will cause. 1. Trying to add incompatible variables, as in adding 6 + ‘a’ 2. Referring to the 12th item of a list that has only 10 items 3.Using a value that is out of range for a function’s input, such as calling math.sqrt(-1.0) 4. Using an undeclared variable, such as print(x)when x has not been defined 5. Trying to open a file that does not exist, such as mistyping the file name or looking in the wrong directory."
   ]
  },
  {
   "cell_type": "code",
   "execution_count": null,
   "id": "ea7fb72d-99bd-4406-b736-d32e5641680d",
   "metadata": {},
   "outputs": [],
   "source": [
    "1.\n",
    "x = 6 + a\n",
    "Output:\n",
    "TypeError: unsupported operand type(s) for +: 'int' and 'str'\n",
    "\n",
    "\n",
    "2.\n",
    "list = [1, 2, 3, 4, 5, 6, 7, 8, 9, 10]\n",
    "item = list[11]\n",
    "print(item)\n",
    "Output:\n",
    "IndexError: list index out of range\n",
    "\n",
    "3.\n",
    "import math\n",
    "x = math.sqrt(-1.0)\n",
    "Output:\n",
    "ValueError: math domain error\n",
    "\n",
    "4.\n",
    "print(x)\n",
    "Output:\n",
    "NameError: name 'x' is not defined\n",
    "\n",
    "5.\n",
    "infile = open(\"sample.txt\")\n",
    "infile.read()\n",
    "\n",
    "Output:\n",
    "FileNotFoundError: [Errno 2] No such file or directory: 'sample.txt'"
   ]
  },
  {
   "cell_type": "markdown",
   "id": "427318ce-20af-4074-8b3d-69f12beb9470",
   "metadata": {},
   "source": [
    "#### 10 Encryption is the process of hiding the meaning of a text by substituting letters in the message with other letters, according to some system. If the process is successful, no one but the intended recipient can understand the encrypted message. Cryptanalysis refers to attempts to undo the encryption, even if some details of the encryption are unknown (for example, if an encrypted message has been intercepted). The first step of cryptanalysis is often to build up a table of letter frequencies in the encrypted text. Assume that the string letters is already defined as 'abcdefghijklmnopqrstuvwxyz'. Write a function called frequencies() that takes a string as its only parameter, and returns a list of integers, showing the number of times each character appears in the text. Your function may ignore any characters that are not in letters. >>> frequencies('The quick red fox got bored and went home.') [1, 1, 1, 3, 5, 1, 1, 2, 1, 0, 1, 0, 1, 2, 4, 0, 1, 2, 0, 2, 1, 0, 1, 1, 0, 0] >>> frequencies('apple')"
   ]
  },
  {
   "cell_type": "code",
   "execution_count": null,
   "id": "7a2a4944-2b82-4cf4-a7aa-e9036c911508",
   "metadata": {},
   "outputs": [],
   "source": [
    "def frequencies(text):\n",
    "    letters = 'abcdefghijklmnopqrstuvwxyz'\n",
    "    counts = [0] * len(letters)\n",
    "    for char in text.lower():\n",
    "        if char in letters:\n",
    "            index = letters.index(char)\n",
    "            counts[index] += 1\n",
    "    return counts\n",
    "\n",
    "print(frequencies('The quick red fox got bored and went home.'))  \n",
    "print(frequencies('apple'))\n",
    "\n",
    "Output: \n",
    "    [1, 1, 1, 3, 5, 1, 1, 2, 1, 0, 1, 0, 1, 2, 4, 0, 1, 2, 0, 3, 1, 0, 1, 1, 0, 0]\n",
    "    [1, 0, 0, 0, 1, 0, 0, 0, 0, 0, 0, 1, 0, 0, 0, 2, 0, 0, 0, 0, 0, 0, 0, 0, 0, 0]\n",
    "    \n"
   ]
  }
 ],
 "metadata": {
  "kernelspec": {
   "display_name": "Python 3 (ipykernel)",
   "language": "python",
   "name": "python3"
  },
  "language_info": {
   "codemirror_mode": {
    "name": "ipython",
    "version": 3
   },
   "file_extension": ".py",
   "mimetype": "text/x-python",
   "name": "python",
   "nbconvert_exporter": "python",
   "pygments_lexer": "ipython3",
   "version": "3.11.4"
  }
 },
 "nbformat": 4,
 "nbformat_minor": 5
}
